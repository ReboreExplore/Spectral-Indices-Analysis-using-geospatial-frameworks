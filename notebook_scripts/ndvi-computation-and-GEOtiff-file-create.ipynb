{
 "cells": [
  {
   "cell_type": "markdown",
   "id": "62ca85bb",
   "metadata": {},
   "source": [
    "# Download NDVI indices yearwise in Geotiff format"
   ]
  },
  {
   "cell_type": "markdown",
   "id": "ad180d84",
   "metadata": {},
   "source": [
    "## Import packages"
   ]
  },
  {
   "cell_type": "code",
   "execution_count": 42,
   "id": "3fbd6f8e",
   "metadata": {},
   "outputs": [],
   "source": [
    "import geemap\n",
    "import ee \n",
    "import os\n",
    "import geemap.colormaps as cm\n",
    "# from matplotlib import cm\n",
    "import warnings\n",
    "warnings.filterwarnings('ignore')"
   ]
  },
  {
   "cell_type": "code",
   "execution_count": 43,
   "id": "06374288",
   "metadata": {},
   "outputs": [],
   "source": [
    "#get the variable initialized\n",
    "%store -r "
   ]
  },
  {
   "cell_type": "code",
   "execution_count": 44,
   "id": "25ebd356",
   "metadata": {},
   "outputs": [
    {
     "data": {
      "text/html": [
       "<p>To authorize access needed by Earth Engine, open the following\n",
       "        URL in a web browser and follow the instructions:</p>\n",
       "        <p><a href=https://code.earthengine.google.com/client-auth?scopes=https%3A//www.googleapis.com/auth/earthengine%20https%3A//www.googleapis.com/auth/devstorage.full_control&request_id=tuZsP1b0b3yMt_AQGe6ySyhx64sGaqMzQ6ZxqG_jPYI&tc=Rka4Zn-eq4UnyN0mD_QNhMYzKB9_jz-1bsxt0O-t8fw&cc=GwzF5XtEA6PU1OCkK6uo7k0hH1eCrpANtrFffTQ393A>https://code.earthengine.google.com/client-auth?scopes=https%3A//www.googleapis.com/auth/earthengine%20https%3A//www.googleapis.com/auth/devstorage.full_control&request_id=tuZsP1b0b3yMt_AQGe6ySyhx64sGaqMzQ6ZxqG_jPYI&tc=Rka4Zn-eq4UnyN0mD_QNhMYzKB9_jz-1bsxt0O-t8fw&cc=GwzF5XtEA6PU1OCkK6uo7k0hH1eCrpANtrFffTQ393A</a></p>\n",
       "        <p>The authorization workflow will generate a code, which you\n",
       "        should paste in the box below</p>\n",
       "        "
      ],
      "text/plain": [
       "<IPython.core.display.HTML object>"
      ]
     },
     "metadata": {},
     "output_type": "display_data"
    },
    {
     "name": "stdout",
     "output_type": "stream",
     "text": [
      "Opening in existing browser session.\n",
      "Enter verification code: 4/1ARtbsJpmjFxhyqJcDUH0wY8R8wsH39jEzZW_qfWd5-SW7r2e9235lZwtG3Y\n",
      "\n",
      "Successfully saved authorization token.\n"
     ]
    }
   ],
   "source": [
    "# ee.Authenticate()"
   ]
  },
  {
   "cell_type": "code",
   "execution_count": 45,
   "id": "cfe9b20c",
   "metadata": {},
   "outputs": [],
   "source": [
    "# A Map object is created which helps to interact with a open street interactive map and add layers to it.\n",
    "Map = geemap.Map(center=[40,100], zoom=4)"
   ]
  },
  {
   "cell_type": "code",
   "execution_count": 46,
   "id": "49473d93",
   "metadata": {},
   "outputs": [
    {
     "data": {
      "application/vnd.jupyter.widget-view+json": {
       "model_id": "9ac8cf2a61154c2bafd515cf98605ad6",
       "version_major": 2,
       "version_minor": 0
      },
      "text/plain": [
       "Map(center=[40, 100], controls=(WidgetControl(options=['position', 'transparent_bg'], widget=HBox(children=(To…"
      ]
     },
     "metadata": {},
     "output_type": "display_data"
    }
   ],
   "source": [
    "Map"
   ]
  },
  {
   "cell_type": "markdown",
   "id": "6063a7f7",
   "metadata": {},
   "source": [
    "## Get the dataset from GEE server"
   ]
  },
  {
   "cell_type": "code",
   "execution_count": 47,
   "id": "44469ec1",
   "metadata": {},
   "outputs": [],
   "source": [
    "# The landsat 7 data is called from the Google Earth Engine Server and a Image Collection is created.\n",
    "dataset_l7 = ee.ImageCollection('LANDSAT/LE07/C01/T1_RT_TOA')\n",
    "\n",
    "# Run the code below to get more information about the dataset we want.\n",
    "# print(dataset_l7.size().getInfo()) "
   ]
  },
  {
   "cell_type": "markdown",
   "id": "7c4b90e7",
   "metadata": {},
   "source": [
    "## Helper Functions"
   ]
  },
  {
   "cell_type": "markdown",
   "id": "2e3b190e",
   "metadata": {},
   "source": [
    "### Spectral Index Computations"
   ]
  },
  {
   "cell_type": "code",
   "execution_count": 48,
   "id": "420aee04",
   "metadata": {},
   "outputs": [],
   "source": [
    "def ndvi_image_compute(img):\n",
    "    '''\n",
    "    Function to compute the ndvi index of the averaged image.It also initializes a download ready ndvi pallete for\n",
    "    visualization and returns the final color image (with pallete)/.\n",
    "    '''\n",
    "    # Computes the nvdi index of the image which is (Band 4 – Band 3) / (Band 4 + Band 3) for LandSAT 7.\n",
    "    ndvi_img = img.normalizedDifference(['B4', 'B3'])\n",
    "    ndvi_visualization = {\n",
    "      'palette': cm.palettes.ndvi,\n",
    "        }\n",
    "    # Get a corrected image with the pallete specified.\n",
    "    corrected_img = ndvi_img.visualize(**ndvi_visualization)\n",
    "    \n",
    "    return corrected_img"
   ]
  },
  {
   "cell_type": "code",
   "execution_count": 49,
   "id": "fe52b72b",
   "metadata": {},
   "outputs": [],
   "source": [
    "def ndwi_image_compute(img):\n",
    "    '''\n",
    "    Function to compute the ndwi index of the averaged image.It also initializes a download ready ndwi pallete for\n",
    "    visualization and returns the final color image (with pallete)/.\n",
    "    '''\n",
    "    # Computes the nvdi index of the image which is (Band 4 – Band 5) / (Band 4 + Band 5) for LandSAT 7.\n",
    "    ndwi_img = img.normalizedDifference(['B4', 'B5'])\n",
    "    ndwi_visualization = {\n",
    "      'palette': cm.palettes.ndwi,\n",
    "        }\n",
    "    # Get a corrected image with the pallete specified.\n",
    "    corrected_img = ndwi_img.visualize(**ndwi_visualization)\n",
    "    \n",
    "    return corrected_img"
   ]
  },
  {
   "cell_type": "code",
   "execution_count": 50,
   "id": "2b96c7a0",
   "metadata": {},
   "outputs": [],
   "source": [
    "def ndbi_image_compute(img):\n",
    "    '''\n",
    "    Function to compute the ndwi index of the averaged image.It also initializes a download ready ndwi pallete for\n",
    "    visualization and returns the final color image (with pallete)/.\n",
    "    '''\n",
    "    # Computes the nvdi index of the image which is (Band 5 – Band 4) / (Band 5 + Band 4) for LandSAT 7.\n",
    "    ndbi_img = img.normalizedDifference(['B5', 'B4'])\n",
    "    ndbi_visualization = {\n",
    "      'min': 0.5, \n",
    "      'max': 1, \n",
    "      'palette': ['00FFFF', '0000FF'],\n",
    "        }\n",
    "    # Get a corrected image with the pallete specified.\n",
    "    corrected_img = ndbi_img.visualize(**ndbi_visualization)\n",
    "    \n",
    "    return corrected_img"
   ]
  },
  {
   "cell_type": "code",
   "execution_count": 51,
   "id": "f5ed4ce2",
   "metadata": {},
   "outputs": [],
   "source": [
    "def mndwi_image_compute(img):\n",
    "    '''\n",
    "    Function to compute the ndwi index of the averaged image.It also initializes a download ready ndwi pallete for\n",
    "    visualization and returns the final color image (with pallete)/.\n",
    "    '''\n",
    "    # Computes the nvdi index of the image which is (Band 2 – Band 5) / (Band 2 + Band 5) for LandSAT 7.\n",
    "    mndwi_img = img.normalizedDifference(['B2', 'B5'])\n",
    "    mndwi_visualization = {\n",
    "      'palette': cm.palettes.mndwi,\n",
    "        }\n",
    "    # Get a corrected image with the pallete specified.\n",
    "    corrected_img = ndbi_img.visualize(**mndwi_visualization)\n",
    "    \n",
    "    return corrected_img"
   ]
  },
  {
   "cell_type": "markdown",
   "id": "c712f24c",
   "metadata": {},
   "source": [
    "### Other processing functions"
   ]
  },
  {
   "cell_type": "code",
   "execution_count": 52,
   "id": "0bb43db0",
   "metadata": {},
   "outputs": [],
   "source": [
    "def clip_to_shape(image):\n",
    "    '''\n",
    "    Function to take an image and clip it according to the region of interest(roi).\n",
    "    It takes an image as an input and outputs the clipped version of the image according to roi\n",
    "    '''\n",
    "    return image.clip(roi)"
   ]
  },
  {
   "cell_type": "code",
   "execution_count": 53,
   "id": "33dec1b1",
   "metadata": {},
   "outputs": [],
   "source": [
    "def maskclouds(image):\n",
    "    '''\n",
    "    Function to take an image and mask the clouds for better visibility. The returns the masked image.\n",
    "    '''\n",
    "    # Select the BQA band, which has the cloud information\n",
    "    qa = image.select('BQA')\n",
    "\n",
    "    # In BQA Band bit 4 is the cloud band, hence activate only that bit, set all other bits of BQA to zero\n",
    "    cloudBit = 1 << 4 #(00000001 -> 00010000) \n",
    "\n",
    "    # Both flags should be set to zero, indicating clear conditions.\n",
    "    mask = qa.bitwiseAnd(cloudBit).eq(0) # And with all the other bits of BQA to check for clouds\n",
    "    return image.updateMask(mask)"
   ]
  },
  {
   "cell_type": "code",
   "execution_count": 54,
   "id": "e5fd9895",
   "metadata": {},
   "outputs": [],
   "source": [
    "def filter_date(year,i,flag):\n",
    "    '''\n",
    "    Function to compute the start and the end date of a particular season. It takes the year and the season of \n",
    "    which we need to find the date and returns the start and the end date is YYYY/MM/DD format\n",
    "    '''\n",
    "    start_date = ee.Date.fromYMD(year,seasons[i][1],seasons[i][0])\n",
    "    if flag==0:\n",
    "        end_date = ee.Date.fromYMD(year,seasons[i][3],seasons[i][2])\n",
    "    else:\n",
    "        end_date = ee.Date.fromYMD(year+1,seasons[i][3],seasons[i][2])\n",
    "    \n",
    "    return start_date, end_date"
   ]
  },
  {
   "cell_type": "code",
   "execution_count": 55,
   "id": "3529edb5",
   "metadata": {},
   "outputs": [],
   "source": [
    "def get_filtered_image(year,i,roi,spectral_index,flag):\n",
    "    '''\n",
    "    Function to get the final computed image of the year specified ( sort by filterdate_ cloud_masked + mean +\n",
    "    ndvi computed)/. The function returns the final computed image.\n",
    "    '''\n",
    "    start_date,end_date = filter_date(year,i,flag)\n",
    "    \n",
    "    img = (dataset_l7.filterDate(start_date,end_date)\n",
    "                    .filterBounds(roi)\n",
    "                    .map(maskclouds))\n",
    "    if spectral_index == 'NDVI':\n",
    "        img = img.select('B3','B4').mean()\n",
    "        img = ndvi_image_compute(img)\n",
    "    elif spectral_index =='NDWI':\n",
    "        img =img.select('B2','B4').mean()\n",
    "        img = ndwi_image_compute(img)\n",
    "    elif spectral_index =='NDBI':\n",
    "        img =img.select('B5','B4').mean()\n",
    "        img = ndbi_image_compute(img)\n",
    "    elif spectral_index =='MNDWI':\n",
    "        img = img.select('B2','B5').mean()\n",
    "        img = mndwi_image_compute(img)\n",
    "    return img\n",
    "    "
   ]
  },
  {
   "cell_type": "code",
   "execution_count": 65,
   "id": "82c82a92",
   "metadata": {},
   "outputs": [],
   "source": [
    "def yearlyMap(year,district_name,roi,spectral_index):\n",
    "    '''\n",
    "    Function to loop over the five selected intervals over an year by taking a year input.\n",
    "    '''\n",
    "    year_folder = spectral_index + '-' + district_name\n",
    "    for k,season in enumerate(seasons):\n",
    "        if season=='djf' or season== 'ann':\n",
    "            img = get_filtered_image(year,season,roi,spectral_index,flag=1) \n",
    "        else:\n",
    "            img = get_filtered_image(year,season,roi,spectral_index,flag=0)\n",
    "        filename = season + '-' + str(year)\n",
    "\n",
    "        download_to_drive(filename, year_folder,img,roi)\n",
    "        # print(year_folder)\n",
    "        # print(filename)"
   ]
  },
  {
   "cell_type": "code",
   "execution_count": 66,
   "id": "ec6b8867",
   "metadata": {},
   "outputs": [],
   "source": [
    "def download_to_drive(filename,year_folder,img,roi):\n",
    "    '''\n",
    "    Function to download the images year wise into the authenticated drive in a geotiff format in the specified\n",
    "    year folders.\n",
    "    '''\n",
    "    task = ee.batch.Export.image.toDrive(image= img.clip(roi),\n",
    "                                     description='spectral index computation for two decades',\n",
    "                                     scale=30,\n",
    "                                     region=roi.geometry(),\n",
    "                                     folder=year_folder,\n",
    "                                     fileNamePrefix=filename,\n",
    "                                     fileFormat='GeoTIFF')\n",
    "    task.start()"
   ]
  },
  {
   "cell_type": "markdown",
   "id": "f5291baf",
   "metadata": {},
   "source": [
    "## Looping code"
   ]
  },
  {
   "cell_type": "code",
   "execution_count": 67,
   "id": "04337699",
   "metadata": {},
   "outputs": [],
   "source": [
    "# List of years\n",
    "years = [y for y in range(start_year,end_year)]"
   ]
  },
  {
   "cell_type": "code",
   "execution_count": 1,
   "id": "273b5f47",
   "metadata": {},
   "outputs": [],
   "source": [
    "for roi,district_name in shape_files.items():\n",
    "    # Loop the computation over the specified list of years for this roi\n",
    "    for year in years:\n",
    "        yearlyMap(year,district_name,roi,spectral_index)"
   ]
  },
  {
   "cell_type": "code",
   "execution_count": 60,
   "id": "474611c1",
   "metadata": {},
   "outputs": [
    {
     "data": {
      "text/plain": [
       "'NDVI'"
      ]
     },
     "execution_count": 60,
     "metadata": {},
     "output_type": "execute_result"
    }
   ],
   "source": [
    "spectral_index"
   ]
  }
 ],
 "metadata": {
  "kernelspec": {
   "display_name": "Python 3 (ipykernel)",
   "language": "python",
   "name": "python3"
  },
  "language_info": {
   "codemirror_mode": {
    "name": "ipython",
    "version": 3
   },
   "file_extension": ".py",
   "mimetype": "text/x-python",
   "name": "python",
   "nbconvert_exporter": "python",
   "pygments_lexer": "ipython3",
   "version": "3.9.12"
  }
 },
 "nbformat": 4,
 "nbformat_minor": 5
}
