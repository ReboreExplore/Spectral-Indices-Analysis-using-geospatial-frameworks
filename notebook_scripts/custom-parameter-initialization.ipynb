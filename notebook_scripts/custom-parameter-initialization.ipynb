{
 "cells": [
  {
   "cell_type": "markdown",
   "id": "dcc75e59",
   "metadata": {},
   "source": [
    "# Notebook defining the parameters"
   ]
  },
  {
   "cell_type": "code",
   "execution_count": 1,
   "id": "fbabb064",
   "metadata": {},
   "outputs": [],
   "source": [
    "#Imports\n",
    "import geemap\n",
    "import os\n",
    "import ee \n",
    "import warnings\n",
    "warnings.filterwarnings('ignore')"
   ]
  },
  {
   "cell_type": "code",
   "execution_count": 15,
   "id": "d8c76b76",
   "metadata": {},
   "outputs": [],
   "source": [
    "ee.Authenticate()"
   ]
  },
  {
   "cell_type": "code",
   "execution_count": 8,
   "id": "41b0cdb2",
   "metadata": {},
   "outputs": [],
   "source": [
    "ee.Initialize()"
   ]
  },
  {
   "cell_type": "markdown",
   "id": "c133377f",
   "metadata": {},
   "source": [
    "## Define the user parameters"
   ]
  },
  {
   "cell_type": "code",
   "execution_count": 9,
   "id": "94ee96fc",
   "metadata": {},
   "outputs": [],
   "source": [
    "# User defined value : where 1 implies local shapefile will be used and 0 implies online shapefiles shall be used.\n",
    "file = 0\n",
    "\n",
    "# State the start and end year of evaluation\n",
    "start_year = 2000 \n",
    "end_year = 2002\n",
    "\n",
    "# List the districts you want to evaluate only for online shapefiles. You can find the complete list of districts in\n",
    "# the FAU_GAUL_cities.txt file in the assets directory.\n",
    "districts = ['Bangalore','Jorhat','Agartala'];\n",
    "\n",
    "# Python dictionary where the 'key' states the yearly timeframes to be evaluated\n",
    "# mam: mar-apr-may; jjas: jun-jul-aug-sep; on: oct-nov; djf: dec-jan-feb; ann: annual\n",
    "# The values indicates the stating and the ending dates of the timesframes to be evaluated\n",
    "# [start date, start month, end date, end month]\n",
    "seasons = {'mam':[1,3,31,5],'jjas':[1,6,30,9],'on':[1,10,30,11],'djf':[1,12,28,2],'ann':[1,3,28,2]}\n",
    "\n",
    "# Which spectral index is needed to be computed\n",
    "# Choose one spectral index : 'NDVI' ,'NDWI' , 'MNDWI'\n",
    "# More spectral index can be added to the choice list provide we create a repository with all the folders.\n",
    "spectral_index = 'NDVI' # Write your choice as a string"
   ]
  },
  {
   "cell_type": "markdown",
   "id": "be285eb8",
   "metadata": {},
   "source": [
    "### Helper Functions"
   ]
  },
  {
   "cell_type": "code",
   "execution_count": 10,
   "id": "be7a1b70",
   "metadata": {},
   "outputs": [],
   "source": [
    "def local_shp():\n",
    "    # If you have a local shapefile the add it under the root local_shapefiles directory. Make sure the shapefile directory has \n",
    "    # all the shapefile files (.shp,.shx,.dbf,.prj etc.)\n",
    "\n",
    "    # As an reference I am using the BBMP shapefile in the shapefile directory for reference.\n",
    "\n",
    "    # city_file = '/local_shapefiles/Bengaluru-shapefile/BBMP_Boundary.shp'\n",
    "    # shape_files = geemap.shp_to_ee(city_file)\n",
    "    # city_name = 'Bengaluru' # User defined\n",
    "\n",
    "    # Visualize in a map\n",
    "\n",
    "    ## Get the interactive map to display\n",
    "    #Map = geemap.Map(center=[40,100], zoom=4)\n",
    "    ## Display the dataset as a layer in the interactive dataset\n",
    "    #Map.addLayer(city_file, {}, 'Bengaluru')\n",
    "    \n",
    "    # Or if you have a directory of a lot of shapefiles you want to extract iteratively.\n",
    "    root_dir = '/local_shapefiles/166_city_shapefiles/'\n",
    "    shape_collection = []\n",
    "    city_names = []\n",
    "    \n",
    "    for cities in os.listdir(root_dir):\n",
    "        city_file = root_dir + cities + '/' + cities + '.shp'\n",
    "        roi = geemap.shp_to_ee(city_file)\n",
    "        shape_collection.append(roi)\n",
    "        city_names.append(cities)\n",
    "    # A python dictionary where key is the shapefile feature collection and corresponding value is the name of the district.\n",
    "    shape_files = dict(zip(shape_collection, city_names))\n",
    "    \n",
    "    return shape_files"
   ]
  },
  {
   "cell_type": "code",
   "execution_count": 11,
   "id": "d7c13d9d",
   "metadata": {},
   "outputs": [],
   "source": [
    "def online_shp():\n",
    "    # Get the district shapefile dataset from Google Earth Engine (districts shapefiles)\n",
    "    dataset = ee.FeatureCollection(\"FAO/GAUL/2015/level2\");\n",
    "     \n",
    "    ## Get the interactive map to display\n",
    "    #Map = geemap.Map(center=[40,100], zoom=4)\n",
    "    ## Display the dataset as a layer in the interactive dataset\n",
    "    #Map.addLayer(dataset, {}, 'Second Level Administrative Units')\n",
    "\n",
    "    # Loop over the shapefiles and store them as feature collection.\n",
    "    shape_collection = []\n",
    "    for district in districts:\n",
    "        roi = dataset.filter(ee.Filter.eq('ADM2_NAME', district))\n",
    "        shape_collection.append(roi)\n",
    "        # Visualize the district in the interactive map\n",
    "    #     Map.addLayer(roi, {}, district) \n",
    "    # A python dictionary where key is the shapefile feature collection and corresponding value is the name of the district.\n",
    "    shape_files = dict(zip(shape_collection, districts))\n",
    "    "
   ]
  },
  {
   "cell_type": "markdown",
   "id": "0f2294c1",
   "metadata": {},
   "source": [
    "## Getting the shapefile"
   ]
  },
  {
   "cell_type": "code",
   "execution_count": 14,
   "id": "f3aec8c3",
   "metadata": {},
   "outputs": [],
   "source": [
    "if file:\n",
    "    # local shapefiles will be used.\n",
    "    shape_files =local_shp()\n",
    "else:\n",
    "    shape_files = online_shp()  "
   ]
  },
  {
   "cell_type": "markdown",
   "id": "55fa9ccf",
   "metadata": {},
   "source": [
    "## Store the variables we want to propagate"
   ]
  },
  {
   "cell_type": "code",
   "execution_count": null,
   "id": "f3f6a52d",
   "metadata": {},
   "outputs": [],
   "source": [
    "%store shape_files\n",
    "%store districts\n",
    "%store start_year\n",
    "%store end_year\n",
    "%store seasons\n",
    "%store spectral_index"
   ]
  }
 ],
 "metadata": {
  "kernelspec": {
   "display_name": "Python 3 (ipykernel)",
   "language": "python",
   "name": "python3"
  },
  "language_info": {
   "codemirror_mode": {
    "name": "ipython",
    "version": 3
   },
   "file_extension": ".py",
   "mimetype": "text/x-python",
   "name": "python",
   "nbconvert_exporter": "python",
   "pygments_lexer": "ipython3",
   "version": "3.9.12"
  }
 },
 "nbformat": 4,
 "nbformat_minor": 5
}
