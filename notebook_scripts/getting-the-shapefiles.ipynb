{
 "cells": [
  {
   "cell_type": "markdown",
   "id": "ce575f96",
   "metadata": {},
   "source": [
    " # Preparing shapefiles from a given CSV file "
   ]
  },
  {
   "cell_type": "code",
   "execution_count": 1,
   "id": "462b04cd",
   "metadata": {},
   "outputs": [],
   "source": [
    "# Imports\n",
    "import pandas as pd\n",
    "import ee\n",
    "import geemap\n",
    "import random\n",
    "import geopandas as gpd\n",
    "from shapely.geometry import Point, Polygon\n",
    "from fiona.crs import from_epsg\n",
    "import os\n",
    "import warnings\n",
    "warnings.filterwarnings('ignore')"
   ]
  },
  {
   "cell_type": "code",
   "execution_count": 2,
   "id": "4d5dd0d8",
   "metadata": {},
   "outputs": [
    {
     "name": "stdout",
     "output_type": "stream",
     "text": [
      "Requirement already satisfied: xlrd in /home/manpa/miniconda3/envs/gee/lib/python3.9/site-packages (2.0.1)\r\n"
     ]
    }
   ],
   "source": [
    "# Required package for using geopandas\n",
    "!pip install xlrd"
   ]
  },
  {
   "cell_type": "markdown",
   "id": "5ea28878",
   "metadata": {},
   "source": [
    "## Working with the local excel file"
   ]
  },
  {
   "cell_type": "code",
   "execution_count": 3,
   "id": "debe66e7",
   "metadata": {},
   "outputs": [],
   "source": [
    "# Read the raw excel file. \n",
    "# The raw excel files contains a lot of redundant information in the heading and hence NaN or unnamed values will be\n",
    "# displayed as we try to visualize it without any filter.\n",
    "read_excel = pd.read_excel('WUP2014-F12-Cities_Over_300K.xls',index_col=False)"
   ]
  },
  {
   "cell_type": "code",
   "execution_count": 4,
   "id": "2f143981",
   "metadata": {},
   "outputs": [],
   "source": [
    "# Filter out the columns we want to work on.\n",
    "cols = ['Index','Country or area','Latitude','Longitude','Urban Agglomeration']"
   ]
  },
  {
   "cell_type": "code",
   "execution_count": 5,
   "id": "2450b0b5",
   "metadata": {},
   "outputs": [],
   "source": [
    "# Read the file from header (row no 16). The rows above 16th contains redundant information.\n",
    "file = pd.read_excel('WUP2014-F12-Cities_Over_300K.xls',header=16,usecols=cols,index_col=False)"
   ]
  },
  {
   "cell_type": "code",
   "execution_count": 6,
   "id": "67c2315f",
   "metadata": {},
   "outputs": [
    {
     "data": {
      "text/html": [
       "<div>\n",
       "<style scoped>\n",
       "    .dataframe tbody tr th:only-of-type {\n",
       "        vertical-align: middle;\n",
       "    }\n",
       "\n",
       "    .dataframe tbody tr th {\n",
       "        vertical-align: top;\n",
       "    }\n",
       "\n",
       "    .dataframe thead th {\n",
       "        text-align: right;\n",
       "    }\n",
       "</style>\n",
       "<table border=\"1\" class=\"dataframe\">\n",
       "  <thead>\n",
       "    <tr style=\"text-align: right;\">\n",
       "      <th></th>\n",
       "      <th>Index</th>\n",
       "      <th>Country or area</th>\n",
       "      <th>Urban Agglomeration</th>\n",
       "      <th>Latitude</th>\n",
       "      <th>Longitude</th>\n",
       "    </tr>\n",
       "  </thead>\n",
       "  <tbody>\n",
       "    <tr>\n",
       "      <th>0</th>\n",
       "      <td>1</td>\n",
       "      <td>Afghanistan</td>\n",
       "      <td>Herat</td>\n",
       "      <td>34.348170</td>\n",
       "      <td>62.199670</td>\n",
       "    </tr>\n",
       "    <tr>\n",
       "      <th>1</th>\n",
       "      <td>2</td>\n",
       "      <td>Afghanistan</td>\n",
       "      <td>Kabul</td>\n",
       "      <td>34.528887</td>\n",
       "      <td>69.172460</td>\n",
       "    </tr>\n",
       "    <tr>\n",
       "      <th>2</th>\n",
       "      <td>3</td>\n",
       "      <td>Afghanistan</td>\n",
       "      <td>Kandahar</td>\n",
       "      <td>31.613320</td>\n",
       "      <td>65.710130</td>\n",
       "    </tr>\n",
       "    <tr>\n",
       "      <th>3</th>\n",
       "      <td>4</td>\n",
       "      <td>Albania</td>\n",
       "      <td>Tiranë (Tirana)</td>\n",
       "      <td>41.327500</td>\n",
       "      <td>19.818890</td>\n",
       "    </tr>\n",
       "    <tr>\n",
       "      <th>4</th>\n",
       "      <td>5</td>\n",
       "      <td>Algeria</td>\n",
       "      <td>Annaba</td>\n",
       "      <td>36.900000</td>\n",
       "      <td>7.766670</td>\n",
       "    </tr>\n",
       "    <tr>\n",
       "      <th>...</th>\n",
       "      <td>...</td>\n",
       "      <td>...</td>\n",
       "      <td>...</td>\n",
       "      <td>...</td>\n",
       "      <td>...</td>\n",
       "    </tr>\n",
       "    <tr>\n",
       "      <th>1687</th>\n",
       "      <td>1688</td>\n",
       "      <td>Zambia</td>\n",
       "      <td>Lusaka</td>\n",
       "      <td>-15.413374</td>\n",
       "      <td>28.277148</td>\n",
       "    </tr>\n",
       "    <tr>\n",
       "      <th>1688</th>\n",
       "      <td>1689</td>\n",
       "      <td>Zambia</td>\n",
       "      <td>Ndola</td>\n",
       "      <td>-12.958670</td>\n",
       "      <td>28.636590</td>\n",
       "    </tr>\n",
       "    <tr>\n",
       "      <th>1689</th>\n",
       "      <td>1690</td>\n",
       "      <td>Zimbabwe</td>\n",
       "      <td>Bulawayo</td>\n",
       "      <td>-20.150000</td>\n",
       "      <td>28.583330</td>\n",
       "    </tr>\n",
       "    <tr>\n",
       "      <th>1690</th>\n",
       "      <td>1691</td>\n",
       "      <td>Zimbabwe</td>\n",
       "      <td>Chitungwiza</td>\n",
       "      <td>-18.012740</td>\n",
       "      <td>31.075550</td>\n",
       "    </tr>\n",
       "    <tr>\n",
       "      <th>1691</th>\n",
       "      <td>1692</td>\n",
       "      <td>Zimbabwe</td>\n",
       "      <td>Harare</td>\n",
       "      <td>-17.829350</td>\n",
       "      <td>31.053890</td>\n",
       "    </tr>\n",
       "  </tbody>\n",
       "</table>\n",
       "<p>1692 rows × 5 columns</p>\n",
       "</div>"
      ],
      "text/plain": [
       "      Index Country or area Urban Agglomeration   Latitude  Longitude\n",
       "0         1     Afghanistan               Herat  34.348170  62.199670\n",
       "1         2     Afghanistan               Kabul  34.528887  69.172460\n",
       "2         3     Afghanistan            Kandahar  31.613320  65.710130\n",
       "3         4         Albania     Tiranë (Tirana)  41.327500  19.818890\n",
       "4         5         Algeria              Annaba  36.900000   7.766670\n",
       "...     ...             ...                 ...        ...        ...\n",
       "1687   1688          Zambia              Lusaka -15.413374  28.277148\n",
       "1688   1689          Zambia               Ndola -12.958670  28.636590\n",
       "1689   1690        Zimbabwe            Bulawayo -20.150000  28.583330\n",
       "1690   1691        Zimbabwe         Chitungwiza -18.012740  31.075550\n",
       "1691   1692        Zimbabwe              Harare -17.829350  31.053890\n",
       "\n",
       "[1692 rows x 5 columns]"
      ]
     },
     "execution_count": 6,
     "metadata": {},
     "output_type": "execute_result"
    }
   ],
   "source": [
    "file"
   ]
  },
  {
   "cell_type": "code",
   "execution_count": 7,
   "id": "b39ad6b0",
   "metadata": {},
   "outputs": [],
   "source": [
    "# We also require the Country == India rows for the above filtered dataframe. \n",
    "# This is the final dataframe we will be working with.\n",
    "\n",
    "final_df = file.loc[file['Country or area'] == 'India']"
   ]
  },
  {
   "cell_type": "code",
   "execution_count": 8,
   "id": "e9b6009f",
   "metadata": {},
   "outputs": [
    {
     "data": {
      "text/html": [
       "<div>\n",
       "<style scoped>\n",
       "    .dataframe tbody tr th:only-of-type {\n",
       "        vertical-align: middle;\n",
       "    }\n",
       "\n",
       "    .dataframe tbody tr th {\n",
       "        vertical-align: top;\n",
       "    }\n",
       "\n",
       "    .dataframe thead th {\n",
       "        text-align: right;\n",
       "    }\n",
       "</style>\n",
       "<table border=\"1\" class=\"dataframe\">\n",
       "  <thead>\n",
       "    <tr style=\"text-align: right;\">\n",
       "      <th></th>\n",
       "      <th>Index</th>\n",
       "      <th>Country or area</th>\n",
       "      <th>Urban Agglomeration</th>\n",
       "      <th>Latitude</th>\n",
       "      <th>Longitude</th>\n",
       "    </tr>\n",
       "  </thead>\n",
       "  <tbody>\n",
       "    <tr>\n",
       "      <th>707</th>\n",
       "      <td>708</td>\n",
       "      <td>India</td>\n",
       "      <td>Agartala</td>\n",
       "      <td>23.836390</td>\n",
       "      <td>91.275000</td>\n",
       "    </tr>\n",
       "    <tr>\n",
       "      <th>708</th>\n",
       "      <td>709</td>\n",
       "      <td>India</td>\n",
       "      <td>Agra</td>\n",
       "      <td>27.183330</td>\n",
       "      <td>78.016670</td>\n",
       "    </tr>\n",
       "    <tr>\n",
       "      <th>709</th>\n",
       "      <td>710</td>\n",
       "      <td>India</td>\n",
       "      <td>Ahmadabad</td>\n",
       "      <td>23.033330</td>\n",
       "      <td>72.616670</td>\n",
       "    </tr>\n",
       "    <tr>\n",
       "      <th>710</th>\n",
       "      <td>711</td>\n",
       "      <td>India</td>\n",
       "      <td>Ahmadnagar</td>\n",
       "      <td>19.083330</td>\n",
       "      <td>74.733330</td>\n",
       "    </tr>\n",
       "    <tr>\n",
       "      <th>711</th>\n",
       "      <td>712</td>\n",
       "      <td>India</td>\n",
       "      <td>Aizawl</td>\n",
       "      <td>23.724440</td>\n",
       "      <td>92.717500</td>\n",
       "    </tr>\n",
       "    <tr>\n",
       "      <th>...</th>\n",
       "      <td>...</td>\n",
       "      <td>...</td>\n",
       "      <td>...</td>\n",
       "      <td>...</td>\n",
       "      <td>...</td>\n",
       "    </tr>\n",
       "    <tr>\n",
       "      <th>868</th>\n",
       "      <td>869</td>\n",
       "      <td>India</td>\n",
       "      <td>Vellore</td>\n",
       "      <td>12.933330</td>\n",
       "      <td>79.133330</td>\n",
       "    </tr>\n",
       "    <tr>\n",
       "      <th>869</th>\n",
       "      <td>870</td>\n",
       "      <td>India</td>\n",
       "      <td>Vijayawada</td>\n",
       "      <td>16.516670</td>\n",
       "      <td>80.616670</td>\n",
       "    </tr>\n",
       "    <tr>\n",
       "      <th>870</th>\n",
       "      <td>871</td>\n",
       "      <td>India</td>\n",
       "      <td>Visakhapatnam</td>\n",
       "      <td>17.681874</td>\n",
       "      <td>83.209685</td>\n",
       "    </tr>\n",
       "    <tr>\n",
       "      <th>871</th>\n",
       "      <td>872</td>\n",
       "      <td>India</td>\n",
       "      <td>Warangal</td>\n",
       "      <td>18.000000</td>\n",
       "      <td>79.583330</td>\n",
       "    </tr>\n",
       "    <tr>\n",
       "      <th>872</th>\n",
       "      <td>873</td>\n",
       "      <td>India</td>\n",
       "      <td>Yamunanagar</td>\n",
       "      <td>30.100000</td>\n",
       "      <td>77.283330</td>\n",
       "    </tr>\n",
       "  </tbody>\n",
       "</table>\n",
       "<p>166 rows × 5 columns</p>\n",
       "</div>"
      ],
      "text/plain": [
       "     Index Country or area Urban Agglomeration   Latitude  Longitude\n",
       "707    708           India            Agartala  23.836390  91.275000\n",
       "708    709           India                Agra  27.183330  78.016670\n",
       "709    710           India           Ahmadabad  23.033330  72.616670\n",
       "710    711           India          Ahmadnagar  19.083330  74.733330\n",
       "711    712           India              Aizawl  23.724440  92.717500\n",
       "..     ...             ...                 ...        ...        ...\n",
       "868    869           India             Vellore  12.933330  79.133330\n",
       "869    870           India          Vijayawada  16.516670  80.616670\n",
       "870    871           India       Visakhapatnam  17.681874  83.209685\n",
       "871    872           India            Warangal  18.000000  79.583330\n",
       "872    873           India         Yamunanagar  30.100000  77.283330\n",
       "\n",
       "[166 rows x 5 columns]"
      ]
     },
     "execution_count": 8,
     "metadata": {},
     "output_type": "execute_result"
    }
   ],
   "source": [
    "final_df"
   ]
  },
  {
   "cell_type": "markdown",
   "id": "e5db2228",
   "metadata": {},
   "source": [
    "## Get the Map object as ipyleaflets"
   ]
  },
  {
   "cell_type": "code",
   "execution_count": 9,
   "id": "ec1f46b8",
   "metadata": {},
   "outputs": [
    {
     "data": {
      "application/vnd.jupyter.widget-view+json": {
       "model_id": "dc82a86e588f4707bcd9f40d27ea681a",
       "version_major": 2,
       "version_minor": 0
      },
      "text/plain": [
       "Map(center=[40, 100], controls=(WidgetControl(options=['position', 'transparent_bg'], widget=HBox(children=(To…"
      ]
     },
     "metadata": {},
     "output_type": "display_data"
    }
   ],
   "source": [
    "# Get the GEE map object\n",
    "Map = geemap.Map(center=[40,100], zoom=4)\n",
    "Map"
   ]
  },
  {
   "cell_type": "code",
   "execution_count": 10,
   "id": "601d5b99",
   "metadata": {},
   "outputs": [],
   "source": [
    "# Create a hashmap to map the city center coordinates with the city name\n",
    "city_dict = {}\n",
    "cities = final_df['Urban Agglomeration'].tolist()\n",
    "coor = list(zip(final_df['Longitude'].tolist(),final_df['Latitude'].tolist()))\n",
    "shapefile_map = dict(zip(cities,coor))"
   ]
  },
  {
   "cell_type": "code",
   "execution_count": 11,
   "id": "f6e11f2f",
   "metadata": {},
   "outputs": [],
   "source": [
    "# # Take the first eight data for testing\n",
    "# sliced_map = dict(list(shapefile_map.items())[:len(shapefile_map)//20])\n",
    "# sliced_map"
   ]
  },
  {
   "cell_type": "markdown",
   "id": "21ede913",
   "metadata": {},
   "source": [
    "## Helper functions"
   ]
  },
  {
   "cell_type": "code",
   "execution_count": 12,
   "id": "af370f66",
   "metadata": {},
   "outputs": [],
   "source": [
    "def create_polygon(coordinates, polygon_name):\n",
    "    ''' \n",
    "    Create a polygon from coordinates\n",
    "    ''' \n",
    "    polygon = Polygon(coordinates)\n",
    "    gdf = gpd.GeoDataFrame()\n",
    "    gdf.loc[0,'name'] = polygon_name\n",
    "    gdf.loc[0, 'geometry'] = polygon\n",
    "    \n",
    "    gdf.crs = from_epsg(4326)\n",
    "    return gdf"
   ]
  },
  {
   "cell_type": "markdown",
   "id": "afefdddd",
   "metadata": {},
   "source": [
    "## Loop over the maps"
   ]
  },
  {
   "cell_type": "code",
   "execution_count": 13,
   "id": "874dda8d",
   "metadata": {},
   "outputs": [],
   "source": [
    "root_path = '166_city_shapefiles/'\n",
    "if not os.path.exists(root_path):\n",
    "        os.makedirs(root_path)"
   ]
  },
  {
   "cell_type": "markdown",
   "id": "eac00ef9",
   "metadata": {},
   "source": [
    "### The following polygonal shapefiles are created with an assumption that all cities occupy around same area and the same buffer size is taken for all the cities. The alternate is classifying tier-1 and tier-2 cities (based on area) and accordingly setting the buffer size."
   ]
  },
  {
   "cell_type": "code",
   "execution_count": 14,
   "id": "516aecd9",
   "metadata": {},
   "outputs": [],
   "source": [
    "# # This part pf the code can be uncommented when tier wise shape files arerequired\n",
    "# tier_one_cities  = ['one','two'] # Replace the list items with the names of the tier one cities from the 166 city list\n",
    "# tier_two_cities  = ['three', 'four'] # Replace the list items with the names of the tier two cities from the 166 city list\n",
    "# tier_three_cities = ['five','six'] # Replace the list items with the names of the tier three cities from the 166 city list"
   ]
  },
  {
   "cell_type": "code",
   "execution_count": 15,
   "id": "c6620f22",
   "metadata": {},
   "outputs": [],
   "source": [
    "# for city,shape in shapefile_map.items():\n",
    "#     if city in tier_one_cities:\n",
    "#         poly_area = 14400  # Change this value according to the area\n",
    "#     else if city in tier_two_cities:\n",
    "#         poly_area = 12100  # Change this value according to the area\n",
    "#     else if city in tier_three_cities:\n",
    "#         poly_area = 10000 # Change this value according to the area\n",
    "      \n",
    "#     city_block = ee.Geometry.Point(shape).buffer(poly_area).bounds()\n",
    "#     pointCoordinates = city_block.coordinates()\n",
    "#     points = pointCoordinates.getInfo()[0]\n",
    "    \n",
    "#     # create polygon shapefiles\n",
    "#     city_shape = create_polygon(points, city)\n",
    "    \n",
    "#     curr_dir = root_path+ city + '/'\n",
    "    \n",
    "#     if not os.path.exists(curr_dir):\n",
    "#         os.makedirs(curr_dir)\n",
    "    \n",
    "#     # Export to shapefile if you want\n",
    "#     city_shape.to_file(curr_dir + city + '.shp')\n",
    "    "
   ]
  },
  {
   "cell_type": "code",
   "execution_count": 16,
   "id": "2231fd84",
   "metadata": {},
   "outputs": [],
   "source": [
    "for city,shape in shapefile_map.items():\n",
    "      \n",
    "    city_block = ee.Geometry.Point(shape).buffer(14400).bounds()\n",
    "    pointCoordinates = city_block.coordinates()\n",
    "    points = pointCoordinates.getInfo()[0]\n",
    "    \n",
    "    # create polygon shapefiles\n",
    "    city_shape = create_polygon(points, city)\n",
    "    \n",
    "    curr_dir = root_path+ city + '/'\n",
    "    \n",
    "    if not os.path.exists(curr_dir):\n",
    "        os.makedirs(curr_dir)\n",
    "    \n",
    "    # Export to shapefile if you want\n",
    "    city_shape.to_file(curr_dir + city + '.shp')\n",
    "    "
   ]
  },
  {
   "cell_type": "markdown",
   "id": "50e18d20",
   "metadata": {},
   "source": [
    "\n",
    "## Test the shapefiles"
   ]
  },
  {
   "cell_type": "code",
   "execution_count": 18,
   "id": "007b83b2",
   "metadata": {},
   "outputs": [],
   "source": [
    "# # test any shapefile and the data as a geopandas dataframe\n",
    "# fp = \"myboundary2.shp\"\n",
    "# data = gpd.read_file(fp)\n",
    "\n",
    "# # Print columns\n",
    "# print(data.columns)\n",
    "# print(data['name'].unique())"
   ]
  },
  {
   "cell_type": "code",
   "execution_count": 19,
   "id": "759975d9",
   "metadata": {
    "scrolled": true
   },
   "outputs": [
    {
     "data": {
      "application/vnd.jupyter.widget-view+json": {
       "model_id": "3a92e9094c994bafb400f27a4021e0eb",
       "version_major": 2,
       "version_minor": 0
      },
      "text/plain": [
       "Map(center=[40, 100], controls=(WidgetControl(options=['position', 'transparent_bg'], widget=HBox(children=(To…"
      ]
     },
     "metadata": {},
     "output_type": "display_data"
    }
   ],
   "source": [
    "Map2 = geemap.Map(center=[40,100], zoom=4)\n",
    "Map2"
   ]
  },
  {
   "cell_type": "code",
   "execution_count": 20,
   "id": "17e01a5e",
   "metadata": {},
   "outputs": [],
   "source": [
    "# add the necessary shapefile (considered Agra for testing)\n",
    "city_file = root_path + 'Agra/' + 'Agra.shp'\n",
    "roi = geemap.shp_to_ee(city_file)\n",
    "Map2.addLayer(roi, {}, 'Agra')"
   ]
  }
 ],
 "metadata": {
  "kernelspec": {
   "display_name": "Python 3 (ipykernel)",
   "language": "python",
   "name": "python3"
  },
  "language_info": {
   "codemirror_mode": {
    "name": "ipython",
    "version": 3
   },
   "file_extension": ".py",
   "mimetype": "text/x-python",
   "name": "python",
   "nbconvert_exporter": "python",
   "pygments_lexer": "ipython3",
   "version": "3.9.12"
  }
 },
 "nbformat": 4,
 "nbformat_minor": 5
}
